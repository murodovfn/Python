{
 "cells": [
  {
   "cell_type": "code",
   "execution_count": 4,
   "metadata": {},
   "outputs": [
    {
     "name": "stdout",
     "output_type": "stream",
     "text": [
      "Hi, Muhammadjon. You are 19 years old.\n"
     ]
    }
   ],
   "source": [
    "### Age calculator\n",
    "\n",
    "from datetime import datetime\n",
    "\n",
    "name = input(\" Enter your name: \")\n",
    "birth_year = int(input(\"Enter your year of birth: \"))\n",
    "\n",
    "current_year = datetime.now().year\n",
    "\n",
    "age = current_year - birth_year\n",
    "\n",
    "print(f\"Hi, {name}. You are {age} years old.\")"
   ]
  },
  {
   "cell_type": "code",
   "execution_count": 4,
   "metadata": {},
   "outputs": [
    {
     "name": "stdout",
     "output_type": "stream",
     "text": [
      "Malibu\n",
      "Lasetti\n"
     ]
    }
   ],
   "source": [
    "### Extract car names\n",
    "\n",
    "txt = 'LMaasleitbtui'\n",
    "print(txt[1::2])\n",
    "\n",
    "\n",
    "txt = 'LMaasleitbtui'\n",
    "print(txt[0::2])\n",
    "\n",
    "\n"
   ]
  },
  {
   "cell_type": "code",
   "execution_count": 10,
   "metadata": {},
   "outputs": [
    {
     "name": "stdout",
     "output_type": "stream",
     "text": [
      "Matiz\n",
      "Damas\n"
     ]
    }
   ],
   "source": [
    "### Extract car names\n",
    "\n",
    "txt = 'MsaatmiazD'\n",
    "print(txt[0::2])\n",
    "\n",
    "txt = 'MsaatmiazD'\n",
    "print(txt[1::2][::-1])"
   ]
  },
  {
   "cell_type": "code",
   "execution_count": 11,
   "metadata": {},
   "outputs": [
    {
     "name": "stdout",
     "output_type": "stream",
     "text": [
      "London\n"
     ]
    }
   ],
   "source": [
    "### Extract residence area\n",
    "\n",
    "txt = \"I'am John. I am from London\"\n",
    "print(txt.split()[-1])"
   ]
  },
  {
   "cell_type": "code",
   "execution_count": 12,
   "metadata": {},
   "outputs": [
    {
     "name": "stdout",
     "output_type": "stream",
     "text": [
      "Reversed_string: nojdammahuM\n"
     ]
    }
   ],
   "source": [
    "### Reverse String\n",
    "\n",
    "user_input = input(\"Enter a text: \")\n",
    "\n",
    "reversed_string = user_input[::-1]\n",
    "\n",
    "print(\"Reversed_string:\", reversed_string)"
   ]
  },
  {
   "cell_type": "code",
   "execution_count": null,
   "metadata": {},
   "outputs": [
    {
     "name": "stdout",
     "output_type": "stream",
     "text": [
      "vowels: uaa\n",
      "Number of vowels: 3\n"
     ]
    }
   ],
   "source": [
    "### Count Vowels\n",
    "\n",
    "user_input = input(\"Enter a text: \")\n",
    "\n",
    "vowels = \"aeiouAEIOU\"\n",
    "filtered_vowels = \"\".join([char for char in user_input if char in vowels])\n",
    "\n",
    "print(\"vowels:\", filtered_vowels)\n",
    "print(\"Number of vowels:\", len(filtered_vowels))\n"
   ]
  },
  {
   "cell_type": "code",
   "execution_count": 2,
   "metadata": {},
   "outputs": [
    {
     "name": "stdout",
     "output_type": "stream",
     "text": [
      "Maximum value: 9\n"
     ]
    }
   ],
   "source": [
    "### Find maximum value\n",
    "numbers = list(map(int, input(\"Enter numbers separated by spaces: \").split()))\n",
    "\n",
    "max_value = max(numbers)\n",
    "\n",
    "print(\"Maximum value:\", max_value)\n"
   ]
  },
  {
   "cell_type": "code",
   "execution_count": 4,
   "metadata": {},
   "outputs": [
    {
     "name": "stdout",
     "output_type": "stream",
     "text": [
      "It's a palindrome!\n"
     ]
    }
   ],
   "source": [
    "### Check palindrome\n",
    "\n",
    "word = input(\"Enter a word: \")\n",
    "\n",
    "if word == word[::-1]:\n",
    "    print(\"It's a palindrome!\")\n",
    "else:\n",
    "    print(\"It's not a palindrome.\")\n"
   ]
  },
  {
   "cell_type": "code",
   "execution_count": null,
   "metadata": {},
   "outputs": [],
   "source": []
  },
  {
   "cell_type": "code",
   "execution_count": null,
   "metadata": {},
   "outputs": [],
   "source": []
  },
  {
   "cell_type": "code",
   "execution_count": null,
   "metadata": {},
   "outputs": [],
   "source": []
  },
  {
   "cell_type": "code",
   "execution_count": null,
   "metadata": {},
   "outputs": [],
   "source": []
  },
  {
   "cell_type": "code",
   "execution_count": null,
   "metadata": {},
   "outputs": [],
   "source": []
  }
 ],
 "metadata": {
  "kernelspec": {
   "display_name": "Python 3",
   "language": "python",
   "name": "python3"
  },
  "language_info": {
   "codemirror_mode": {
    "name": "ipython",
    "version": 3
   },
   "file_extension": ".py",
   "mimetype": "text/x-python",
   "name": "python",
   "nbconvert_exporter": "python",
   "pygments_lexer": "ipython3",
   "version": "3.12.8"
  }
 },
 "nbformat": 4,
 "nbformat_minor": 2
}
