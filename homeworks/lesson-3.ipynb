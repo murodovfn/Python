{
 "cells": [
  {
   "cell_type": "code",
   "execution_count": 2,
   "metadata": {},
   "outputs": [
    {
     "name": "stdout",
     "output_type": "stream",
     "text": [
      "cherry\n",
      "orange\n"
     ]
    }
   ],
   "source": [
    "### Create and Access List Elements\n",
    "\n",
    "fruits = [\"apple\",\"grape\",\"cherry\",\"pineapple\",\"orange\"]\n",
    "print(fruits[2])\n",
    "print(fruits[4])"
   ]
  },
  {
   "cell_type": "code",
   "execution_count": 5,
   "metadata": {},
   "outputs": [
    {
     "name": "stdout",
     "output_type": "stream",
     "text": [
      "[11, 22, 33, 44, 55, 66, 77, 88]\n"
     ]
    }
   ],
   "source": [
    "### Concatenate Two Lists\n",
    "\n",
    "a = [11, 22, 33, 44]\n",
    "b = [55, 66, 77, 88]\n",
    "\n",
    "print(a + b)"
   ]
  },
  {
   "cell_type": "code",
   "execution_count": 6,
   "metadata": {},
   "outputs": [
    {
     "name": "stdout",
     "output_type": "stream",
     "text": [
      "Extracted elements: ['A', 'D', 'G']\n"
     ]
    }
   ],
   "source": [
    "### Extract Elements from a List\n",
    "\n",
    "letters = [\"A\", \"B\", \"C\", \"D\", \"E\", \"F\", \"G\"]\n",
    "\n",
    "first_letter = letters[0]\n",
    "mid_letter = letters[len(letters) // 2]\n",
    "last_letter = letters[-1]\n",
    "\n",
    "new_list = [first_letter, mid_letter, last_letter]\n",
    "\n",
    "print(\"Extracted elements:\", new_list)"
   ]
  },
  {
   "cell_type": "code",
   "execution_count": 10,
   "metadata": {},
   "outputs": [
    {
     "name": "stdout",
     "output_type": "stream",
     "text": [
      "('Interstellar', 'The Godfather', 'The Shawshank Redemption', 'Forrest Gump', 'Back to the Future')\n"
     ]
    }
   ],
   "source": [
    "### Convert List to Tuple\n",
    "\n",
    "favourite_movies = ['Interstellar', 'The Godfather', 'The Shawshank Redemption', 'Forrest Gump', 'Back to the Future']\n",
    "\n",
    "movies_tuple = tuple(favourite_movies)\n",
    "\n",
    "print(movies_tuple)\n"
   ]
  },
  {
   "cell_type": "code",
   "execution_count": 16,
   "metadata": {},
   "outputs": [
    {
     "name": "stdout",
     "output_type": "stream",
     "text": [
      "Tashkent is not in the list.\n"
     ]
    }
   ],
   "source": [
    "### Check Element in a List\n",
    "\n",
    "cities = [\"New York\", \"London\", \"Tokyo\", \"Paris\", \"Sydney\"]\n",
    "\n",
    "if \"Tashkent\" in cities:\n",
    "    print(\"Tashkent is in the list.\")\n",
    "else:\n",
    "    print(\"Tashkent is not in the list.\")\n"
   ]
  },
  {
   "cell_type": "code",
   "execution_count": 17,
   "metadata": {},
   "outputs": [
    {
     "name": "stdout",
     "output_type": "stream",
     "text": [
      "[1, 2, 3, 4, 5, 6, 7, 1, 2, 3, 4, 5, 6, 7]\n"
     ]
    }
   ],
   "source": [
    "###  Duplicate a List Without Using Loops\n",
    "\n",
    "numbers = [1, 2, 3, 4, 5, 6, 7]\n",
    "\n",
    "duplicated_list = numbers * 2\n",
    "\n",
    "print(duplicated_list)"
   ]
  },
  {
   "cell_type": "code",
   "execution_count": 18,
   "metadata": {},
   "outputs": [
    {
     "name": "stdout",
     "output_type": "stream",
     "text": [
      "List after swapping: [121, 55, 77, 99, 33]\n"
     ]
    }
   ],
   "source": [
    "### Swap First and Last Elements of a List\n",
    "\n",
    "numbers = [33, 55, 77, 99, 121]\n",
    "\n",
    "numbers[0], numbers[-1] = numbers[-1], numbers[0]\n",
    "\n",
    "print(\"List after swapping:\", numbers)\n"
   ]
  },
  {
   "cell_type": "code",
   "execution_count": 19,
   "metadata": {},
   "outputs": [
    {
     "name": "stdout",
     "output_type": "stream",
     "text": [
      "(4, 5, 6, 7)\n"
     ]
    }
   ],
   "source": [
    "### Slice a Tuple\n",
    "\n",
    "numbers = (1, 2, 3, 4, 5, 6, 7, 8, 9, 10)\n",
    "\n",
    "print(numbers[3:7])"
   ]
  },
  {
   "cell_type": "code",
   "execution_count": 26,
   "metadata": {},
   "outputs": [
    {
     "name": "stdout",
     "output_type": "stream",
     "text": [
      "Numbers of repeats: 4\n"
     ]
    }
   ],
   "source": [
    "### Count Occurrences in a List\n",
    "\n",
    "colours = (\"black\", \"blue\", \"white\", \"red\", \"blue\", \"black\", \"blue\", \"brown\", \"green\", \"blue\", \"black\", \"red\")\n",
    "print(\"Numbers of repeats:\", colours.count(\"blue\"))"
   ]
  },
  {
   "cell_type": "code",
   "execution_count": 27,
   "metadata": {},
   "outputs": [
    {
     "name": "stdout",
     "output_type": "stream",
     "text": [
      "3\n"
     ]
    }
   ],
   "source": [
    "### Find the Index of an Element in a Tuple\n",
    "\n",
    "animals = ('monkey', 'deer', 'jaguar', 'lion', 'elephant', 'tiger')\n",
    "\n",
    "print(animals.index(\"lion\"))\n"
   ]
  },
  {
   "cell_type": "code",
   "execution_count": 28,
   "metadata": {},
   "outputs": [
    {
     "name": "stdout",
     "output_type": "stream",
     "text": [
      "Merged Tuple: (1, 2, 3, 4, 5, 6, 7, 8, 9, 10)\n"
     ]
    }
   ],
   "source": [
    "#### Merge Two Tuples\n",
    "\n",
    "tuple1 = (1, 2, 3, 4, 5)\n",
    "tuple2 = (6, 7, 8, 9, 10)\n",
    "\n",
    "merged_tuple = tuple1 + tuple2\n",
    "\n",
    "print(\"Merged Tuple:\", merged_tuple)\n"
   ]
  },
  {
   "cell_type": "code",
   "execution_count": 29,
   "metadata": {},
   "outputs": [
    {
     "name": "stdout",
     "output_type": "stream",
     "text": [
      "The length of tuple: 18\n"
     ]
    }
   ],
   "source": [
    "### Find the Length of a List and Tuple\n",
    "\n",
    "numbers = (11, 22, 33, 44, 55, 66, 77, 88, 99, 111, 222 , 333, 444, 555, 6666, 77777, 88888, 99999)\n",
    "\n",
    "length_of_tuple = len(numbers)\n",
    "\n",
    "print(\"The length of tuple:\", length_of_tuple)"
   ]
  },
  {
   "cell_type": "code",
   "execution_count": 30,
   "metadata": {},
   "outputs": [
    {
     "name": "stdout",
     "output_type": "stream",
     "text": [
      "[1, 2, 3, 4, 5, 6, 7, 8, 9]\n"
     ]
    }
   ],
   "source": [
    "### Convert Tuple to List\n",
    "\n",
    "numbers = (1, 2, 3, 4, 5, 6, 7, 8, 9)\n",
    "\n",
    "list_numbers = list(numbers)\n",
    "\n",
    "print(list_numbers)"
   ]
  },
  {
   "cell_type": "code",
   "execution_count": 4,
   "metadata": {},
   "outputs": [
    {
     "name": "stdout",
     "output_type": "stream",
     "text": [
      "Maximum value: 217\n",
      "Minimum value: -7\n"
     ]
    }
   ],
   "source": [
    "### Find Maximum and Minimum in a Tuple\n",
    "\n",
    "numbers = (17, 27, 25, -2, 11, 8, 9, -7, 19, 217, 0)\n",
    "\n",
    "max_value = max(numbers)\n",
    "min_value = min(numbers)\n",
    "\n",
    "print(\"Maximum value:\", max_value)\n",
    "print(\"Minimum value:\", min_value)"
   ]
  },
  {
   "cell_type": "code",
   "execution_count": 5,
   "metadata": {},
   "outputs": [
    {
     "name": "stdout",
     "output_type": "stream",
     "text": [
      "Reversed Tuple: ('tomato', 'chocolate', 'information', 'cherry', 'banana', 'rabbit')\n"
     ]
    }
   ],
   "source": [
    "### Reverse a Tuple\n",
    "\n",
    "words = (\"rabbit\", \"banana\", \"cherry\", \"information\", \"chocolate\", \"tomato\")\n",
    "\n",
    "reversed_tuple = words[::-1]\n",
    "\n",
    "print(\"Reversed Tuple:\", reversed_tuple)\n"
   ]
  }
 ],
 "metadata": {
  "kernelspec": {
   "display_name": "Python 3",
   "language": "python",
   "name": "python3"
  },
  "language_info": {
   "codemirror_mode": {
    "name": "ipython",
    "version": 3
   },
   "file_extension": ".py",
   "mimetype": "text/x-python",
   "name": "python",
   "nbconvert_exporter": "python",
   "pygments_lexer": "ipython3",
   "version": "3.12.8"
  }
 },
 "nbformat": 4,
 "nbformat_minor": 2
}
