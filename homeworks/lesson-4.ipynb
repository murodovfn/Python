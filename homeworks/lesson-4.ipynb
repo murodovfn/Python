{
 "cells": [
  {
   "cell_type": "code",
   "execution_count": 1,
   "metadata": {},
   "outputs": [
    {
     "name": "stdout",
     "output_type": "stream",
     "text": [
      "Ascending Order: {'date': 1, 'cherry': 8, 'banana': 21, 'apple': 54}\n",
      "Descending Order: {'apple': 54, 'banana': 21, 'cherry': 8, 'date': 1}\n"
     ]
    }
   ],
   "source": [
    "### Sort a Dictionary by Value\n",
    "\n",
    "data = {\"apple\": 54, \"banana\": 21, \"cherry\": 8, \"date\": 1}\n",
    "\n",
    "ascending_sorted = dict(sorted(data.items(), key=lambda item: item[1]))\n",
    "\n",
    "\n",
    "descending_sorted = dict(sorted(data.items(), key=lambda item: item[1], reverse=True))\n",
    "\n",
    "\n",
    "print(\"Ascending Order:\", ascending_sorted)\n",
    "print(\"Descending Order:\", descending_sorted)\n"
   ]
  },
  {
   "cell_type": "code",
   "execution_count": 4,
   "metadata": {},
   "outputs": [
    {
     "name": "stdout",
     "output_type": "stream",
     "text": [
      "Updated Dictionary: {'apple': 55, 'banana': 25, 'cherry': 81, 'lemon': 32, 'sugar': 9}\n"
     ]
    }
   ],
   "source": [
    "### Add a Key to a Dictionary\n",
    "\n",
    "data = {\"apple\": 55, \"banana\": 25, \"cherry\": 81}\n",
    "\n",
    "data[\"lemon\"] = 32\n",
    "\n",
    "data[\"sugar\"] = 9\n",
    "\n",
    "print(\"Updated Dictionary:\", data)\n"
   ]
  },
  {
   "cell_type": "code",
   "execution_count": 8,
   "metadata": {},
   "outputs": [
    {
     "name": "stdout",
     "output_type": "stream",
     "text": [
      "Merged Dictionary: {1: 10, 2: 20, 3: 30, 4: 40, 5: 50, 6: 60}\n"
     ]
    }
   ],
   "source": [
    "### Concatenate Multiple Dictionaries\n",
    "\n",
    "dic1 = {1: 10, 2: 20}\n",
    "dic2 = {3: 30, 4: 40}\n",
    "dic3 = {5: 50, 6: 60}\n",
    "\n",
    "merged_dict = {**dic1, **dic2, **dic3}\n",
    "\n",
    "print(\"Merged Dictionary:\", merged_dict)"
   ]
  },
  {
   "cell_type": "code",
   "execution_count": 9,
   "metadata": {},
   "outputs": [
    {
     "name": "stdout",
     "output_type": "stream",
     "text": [
      "Generated Dictionary: {1: 1, 2: 4, 3: 9, 4: 16, 5: 25, 6: 36}\n"
     ]
    }
   ],
   "source": [
    "### Generate a Dictionary with Squares\n",
    "\n",
    "n = int(input(\"Enter a number: \"))\n",
    "\n",
    "squares_dict = {x: x*x for x in range(1, n+1)}\n",
    "\n",
    "print(\"Generated Dictionary:\", squares_dict)"
   ]
  },
  {
   "cell_type": "code",
   "execution_count": 10,
   "metadata": {},
   "outputs": [
    {
     "name": "stdout",
     "output_type": "stream",
     "text": [
      "Created Set: {'cherry', 'date', 'banana', 'apple'}\n"
     ]
    }
   ],
   "source": [
    "### create a set\n",
    "\n",
    "fruits = {\"apple\", \"banana\", \"cherry\", \"date\"}\n",
    "\n",
    "print(\"Created Set:\", fruits)\n"
   ]
  },
  {
   "cell_type": "code",
   "execution_count": 11,
   "metadata": {},
   "outputs": [
    {
     "name": "stdout",
     "output_type": "stream",
     "text": [
      "Set elements:\n",
      "cherry\n",
      "date\n",
      "banana\n",
      "apple\n"
     ]
    }
   ],
   "source": [
    "###  Iterate Over a Set\n",
    "\n",
    "fruits = {\"apple\", \"banana\", \"cherry\", \"date\"}\n",
    "\n",
    "print(\"Set elements:\")\n",
    "for fruit in fruits:\n",
    "    print(fruit)\n"
   ]
  },
  {
   "cell_type": "code",
   "execution_count": 12,
   "metadata": {},
   "outputs": [
    {
     "name": "stdout",
     "output_type": "stream",
     "text": [
      "Updated Set: {'fig', 'date', 'apple', 'elderberry', 'grape', 'cherry', 'banana'}\n"
     ]
    }
   ],
   "source": [
    "### Add Member(s) to a Set\n",
    "\n",
    "fruits = {\"apple\", \"banana\", \"cherry\"}\n",
    "\n",
    "fruits.add(\"date\")\n",
    "\n",
    "fruits.update([\"elderberry\", \"fig\", \"grape\"])\n",
    "\n",
    "print(\"Updated Set:\", fruits)\n"
   ]
  },
  {
   "cell_type": "code",
   "execution_count": 13,
   "metadata": {},
   "outputs": [
    {
     "name": "stdout",
     "output_type": "stream",
     "text": [
      "Updated Set: {'apple', 'elderberry'}\n",
      "Removed Item: date\n"
     ]
    }
   ],
   "source": [
    "###\n",
    "\n",
    "fruits = {\"apple\", \"banana\", \"cherry\", \"date\", \"elderberry\"}\n",
    "\n",
    "fruits.remove(\"banana\")\n",
    "\n",
    "fruits.discard(\"cherry\")\n",
    "\n",
    "removed_item = fruits.pop()\n",
    "\n",
    "print(\"Updated Set:\", fruits)\n",
    "print(\"Removed Item:\", removed_item)\n"
   ]
  },
  {
   "cell_type": "code",
   "execution_count": 15,
   "metadata": {},
   "outputs": [
    {
     "name": "stdout",
     "output_type": "stream",
     "text": [
      "\"olma\" is not in the set.\n",
      "Updated Set: {'cherry', 'date', 'banana', 'apple'}\n"
     ]
    }
   ],
   "source": [
    "### Remove an Item if Present in the Set\n",
    "\n",
    "fruits = {\"apple\", \"banana\", \"cherry\", \"date\"}\n",
    "\n",
    "item_to_remove = \"olma\"\n",
    "\n",
    "if item_to_remove in fruits:\n",
    "    fruits.remove(item_to_remove)\n",
    "    print(f'\"{item_to_remove}\" was removed from the set.')\n",
    "else:\n",
    "    print(f'\"{item_to_remove}\" is not in the set.')\n",
    "\n",
    "print(\"Updated Set:\", fruits)"
   ]
  }
 ],
 "metadata": {
  "kernelspec": {
   "display_name": "Python 3",
   "language": "python",
   "name": "python3"
  },
  "language_info": {
   "codemirror_mode": {
    "name": "ipython",
    "version": 3
   },
   "file_extension": ".py",
   "mimetype": "text/x-python",
   "name": "python",
   "nbconvert_exporter": "python",
   "pygments_lexer": "ipython3",
   "version": "3.12.8"
  }
 },
 "nbformat": 4,
 "nbformat_minor": 2
}
